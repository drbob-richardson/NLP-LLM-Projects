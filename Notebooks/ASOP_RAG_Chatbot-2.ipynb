{
  "nbformat": 4,
  "nbformat_minor": 0,
  "metadata": {
    "colab": {
      "provenance": [],
      "gpuType": "T4"
    },
    "kernelspec": {
      "name": "python3",
      "display_name": "Python 3"
    },
    "language_info": {
      "name": "python"
    }
  },
  "cells": [
    {
      "cell_type": "markdown",
      "source": [
        "## QA RAG ChatBot using Actuarials Standards of Practice\n",
        "\n",
        "Using LangChain to build a QA chatbot based on Actuarial Standards of Practice, using persistent memory, LangSmith for model monitoring and logging."
      ],
      "metadata": {
        "id": "vnIvZi1xR9aR"
      }
    },
    {
      "cell_type": "markdown",
      "source": [
        "Install relevant packages"
      ],
      "metadata": {
        "id": "kViYN7bTtX2W"
      }
    },
    {
      "cell_type": "code",
      "execution_count": null,
      "metadata": {
        "id": "sDxX907NpX-v"
      },
      "outputs": [],
      "source": [
        "%%capture\n",
        "!pip install requests\n",
        "!pip install beautifulsoup4\n",
        "!pip install PyPDF2\n",
        "!pip install langchain_community\n",
        "!pip install langfuse\n",
        "!pip install tiktoken\n",
        "!pip install faiss-gpu\n",
        "!pip install langchain-openai langchain-core langgraph langchain-chroma\n",
        "!pip install langsmith"
      ]
    },
    {
      "cell_type": "markdown",
      "source": [
        "Download ASOPs 1 through 57 as well as additional information, such as definitions, procedures for use, and clarifications for specific cases."
      ],
      "metadata": {
        "id": "jUGr8P2ytfx6"
      }
    },
    {
      "cell_type": "code",
      "source": [
        "import requests\n",
        "from bs4 import BeautifulSoup\n",
        "import os\n",
        "\n",
        "# Create a directory to store the PDFs\n",
        "os.makedirs('asop_pdfs', exist_ok=True)\n",
        "\n",
        "# URLs of the pages to scrape\n",
        "urls_to_scrape = [\n",
        "    'http://www.actuarialstandardsboard.org/standards-of-practice/',\n",
        "    'http://www.actuarialstandardsboard.org/other-documents/'\n",
        "]\n",
        "\n",
        "# Set to store unique PDF links\n",
        "pdf_links = set()\n",
        "\n",
        "for page_url in urls_to_scrape:\n",
        "    print(f'Scraping page: {page_url}')\n",
        "    # Get the page content\n",
        "    response = requests.get(page_url)\n",
        "    soup = BeautifulSoup(response.content, 'html.parser')\n",
        "\n",
        "    # Find all links to PDFs on the page\n",
        "    for link in soup.find_all('a', href=True):\n",
        "        href = link['href']\n",
        "        if href.endswith('.pdf'):\n",
        "            # Complete the URL if it's relative\n",
        "            if href.startswith('/'):\n",
        "                href = f'http://www.actuarialstandardsboard.org{href}'\n",
        "            # Add to the set to ensure uniqueness\n",
        "            pdf_links.add(href)\n",
        "\n",
        "print(f'Found {len(pdf_links)} unique PDF links.')\n",
        "\n",
        "# Download each PDF\n",
        "for url in pdf_links:\n",
        "    pdf_name = url.split('/')[-1]\n",
        "    pdf_path = os.path.join('asop_pdfs', pdf_name)\n",
        "    if not os.path.exists(pdf_path):\n",
        "        print(f'Downloading {pdf_name}...')\n",
        "        pdf_response = requests.get(url)\n",
        "        with open(pdf_path, 'wb') as f:\n",
        "            f.write(pdf_response.content)\n",
        "    else:\n",
        "        print(f'{pdf_name} already exists. Skipping download.')\n",
        "\n",
        "print('All PDFs downloaded.')\n"
      ],
      "metadata": {
        "colab": {
          "base_uri": "https://localhost:8080/"
        },
        "id": "v51_J7NXpe5Z",
        "outputId": "580c7efb-5ec3-4a90-f51b-652aed6131da"
      },
      "execution_count": null,
      "outputs": [
        {
          "output_type": "stream",
          "name": "stdout",
          "text": [
            "Scraping page: http://www.actuarialstandardsboard.org/standards-of-practice/\n",
            "Scraping page: http://www.actuarialstandardsboard.org/other-documents/\n",
            "Found 70 unique PDF links.\n",
            "Downloading opinions3and4_088.pdf...\n",
            "Downloading New-ASB-Definitions-updated-10-7-2024.pdf...\n",
            "Downloading asop011__199.pdf...\n",
            "Downloading asop004_205.pdf...\n",
            "Downloading asop057_208.pdf...\n",
            "Downloading asop005_186.pdf...\n",
            "Downloading asop025_174.pdf...\n",
            "Downloading asop034_180.pdf...\n",
            "Downloading asop039_156.pdf...\n",
            "Downloading asop019_137.pdf...\n",
            "Downloading asop037_154.pdf...\n",
            "Downloading asop044_160.pdf...\n",
            "Downloading asop003_202-1.pdf...\n",
            "Downloading asop047_169.pdf...\n",
            "Downloading asop008_176.pdf...\n",
            "Downloading asop016_104.pdf...\n",
            "Downloading asop045_164.pdf...\n",
            "Downloading asop051_188.pdf...\n",
            "Downloading asop027_197.pdf...\n",
            "Downloading framework6.29.16.pdf...\n",
            "Downloading Actuarial-Standards-Setting-Process.pdf...\n",
            "Downloading asop020_209.pdf...\n",
            "Downloading asop024_217.pdf...\n",
            "Downloading asop030_148.pdf...\n",
            "Downloading ASB-Definitions-as-of-6-4-2024.pdf...\n",
            "Downloading deviation_161.pdf...\n",
            "Downloading PensionTaskForceReport.pdf...\n",
            "Downloading asop001_170.pdf...\n",
            "Downloading asop009_105.pdf...\n",
            "Downloading asop014_082.pdf...\n",
            "Downloading asop043_159.pdf...\n",
            "Downloading asop053_190.pdf...\n",
            "Downloading asop002_204-2.pdf...\n",
            "Downloading asop029_210.pdf...\n",
            "Downloading financial_067.pdf...\n",
            "Downloading asop017_192.pdf...\n",
            "Downloading asop027_211.pdf...\n",
            "Downloading ASB-Procedures-Manual-doc-187.pdf...\n",
            "Downloading asop022_203.pdf...\n",
            "Downloading riskclassificationSOP.pdf...\n",
            "Downloading asop035_198.pdf...\n",
            "Downloading asop042_191.pdf...\n",
            "Downloading asop010_207.pdf...\n",
            "Downloading asop012_132.pdf...\n",
            "Downloading asop041_120.pdf...\n",
            "Downloading asop006_177-3.pdf...\n",
            "Downloading asop052_189.pdf...\n",
            "Downloading asop054_193.pdf...\n",
            "Downloading asop036_213.pdf...\n",
            "Downloading asop049_179.pdf...\n",
            "Downloading asop023_185.pdf...\n",
            "Downloading asop018_206-.pdf...\n",
            "Downloading asop040_212-1.pdf...\n",
            "Downloading asop046_165.pdf...\n",
            "Downloading asop056_195-1.pdf...\n",
            "Downloading Standards-Library-TOC_October-2024.pdf...\n",
            "Downloading asop015_134.pdf...\n",
            "Downloading asop038_201.pdf...\n",
            "Downloading asop-021_183.pdf...\n",
            "Downloading asop032_196.pdf...\n",
            "Downloading asop031_115.pdf...\n",
            "Downloading asop048_1751.pdf...\n",
            "Downloading asop007_128.pdf...\n",
            "Downloading asop055_194.pdf...\n",
            "Downloading asop013_133.pdf...\n",
            "Downloading ASOP-Proposal-Form.pdf...\n",
            "Downloading asop033_150.pdf...\n",
            "Downloading asop028_214.pdf...\n",
            "Downloading asop026_144.pdf...\n",
            "Downloading asop050_182.pdf...\n",
            "All PDFs downloaded.\n"
          ]
        }
      ]
    },
    {
      "cell_type": "markdown",
      "source": [
        "Extract information from the pdf files"
      ],
      "metadata": {
        "id": "LIy_qJHqtza6"
      }
    },
    {
      "cell_type": "code",
      "source": [
        "import PyPDF2\n",
        "\n",
        "# Create a directory to store the text files\n",
        "os.makedirs('asop_texts', exist_ok=True)\n",
        "\n",
        "pdf_folder = 'asop_pdfs'\n",
        "\n",
        "# Get list of all PDF files downloaded\n",
        "pdf_files = [f for f in os.listdir(pdf_folder) if f.endswith('.pdf')]\n",
        "\n",
        "for pdf_file in pdf_files:\n",
        "    pdf_path = os.path.join(pdf_folder, pdf_file)\n",
        "    text_output_path = os.path.join('asop_texts', pdf_file.replace('.pdf', '.txt'))\n",
        "    # Skip if text file already exists\n",
        "    if os.path.exists(text_output_path):\n",
        "        print(f'Text for {pdf_file} already extracted. Skipping.')\n",
        "        continue\n",
        "    print(f'Extracting text from {pdf_file}...')\n",
        "    try:\n",
        "        with open(pdf_path, 'rb') as f:\n",
        "            reader = PyPDF2.PdfReader(f)\n",
        "            text = ''\n",
        "            for page_num in range(len(reader.pages)):\n",
        "                page = reader.pages[page_num]\n",
        "                page_text = page.extract_text()\n",
        "                if page_text:\n",
        "                    text += page_text\n",
        "        # Save the extracted text to a file\n",
        "        with open(text_output_path, 'w', encoding='utf-8') as text_file:\n",
        "            text_file.write(text)\n",
        "    except Exception as e:\n",
        "        print(f'Error extracting text from {pdf_file}: {e}')\n",
        "\n",
        "print('Text extraction completed.')\n"
      ],
      "metadata": {
        "colab": {
          "base_uri": "https://localhost:8080/"
        },
        "id": "7dBUmevsqw3I",
        "outputId": "a1b97143-0547-4719-a805-0d68eac45049"
      },
      "execution_count": null,
      "outputs": [
        {
          "output_type": "stream",
          "name": "stdout",
          "text": [
            "Extracting text from asop027_197.pdf...\n",
            "Extracting text from asop022_203.pdf...\n",
            "Extracting text from asop047_169.pdf...\n",
            "Extracting text from asop013_133.pdf...\n",
            "Extracting text from asop031_115.pdf...\n",
            "Extracting text from asop028_214.pdf...\n",
            "Extracting text from asop032_196.pdf...\n",
            "Extracting text from PensionTaskForceReport.pdf...\n",
            "Extracting text from asop055_194.pdf...\n",
            "Extracting text from asop044_160.pdf...\n",
            "Extracting text from Actuarial-Standards-Setting-Process.pdf...\n",
            "Extracting text from opinions3and4_088.pdf...\n",
            "Extracting text from asop040_212-1.pdf...\n",
            "Extracting text from asop007_128.pdf...\n",
            "Extracting text from asop010_207.pdf...\n",
            "Extracting text from asop014_082.pdf...\n",
            "Extracting text from New-ASB-Definitions-updated-10-7-2024.pdf...\n",
            "Extracting text from asop030_148.pdf...\n",
            "Extracting text from asop002_204-2.pdf...\n",
            "Extracting text from asop057_208.pdf...\n",
            "Extracting text from asop006_177-3.pdf...\n",
            "Extracting text from financial_067.pdf...\n",
            "Extracting text from asop052_189.pdf...\n",
            "Extracting text from asop004_205.pdf...\n",
            "Extracting text from asop026_144.pdf...\n",
            "Extracting text from Standards-Library-TOC_October-2024.pdf...\n",
            "Extracting text from asop029_210.pdf...\n",
            "Extracting text from ASB-Procedures-Manual-doc-187.pdf...\n",
            "Extracting text from asop049_179.pdf...\n",
            "Extracting text from asop038_201.pdf...\n",
            "Extracting text from asop036_213.pdf...\n",
            "Extracting text from asop025_174.pdf...\n",
            "Extracting text from asop023_185.pdf...\n",
            "Extracting text from asop048_1751.pdf...\n",
            "Extracting text from framework6.29.16.pdf...\n",
            "Extracting text from asop016_104.pdf...\n",
            "Extracting text from asop053_190.pdf...\n",
            "Extracting text from asop033_150.pdf...\n",
            "Extracting text from riskclassificationSOP.pdf...\n",
            "Extracting text from asop039_156.pdf...\n",
            "Extracting text from asop017_192.pdf...\n",
            "Extracting text from asop041_120.pdf...\n",
            "Extracting text from asop043_159.pdf...\n",
            "Extracting text from asop056_195-1.pdf...\n",
            "Extracting text from asop012_132.pdf...\n",
            "Extracting text from asop003_202-1.pdf...\n",
            "Extracting text from asop020_209.pdf...\n",
            "Extracting text from asop051_188.pdf...\n",
            "Extracting text from deviation_161.pdf...\n",
            "Extracting text from asop011__199.pdf...\n",
            "Extracting text from asop-021_183.pdf...\n",
            "Extracting text from asop027_211.pdf...\n",
            "Extracting text from asop009_105.pdf...\n",
            "Extracting text from asop019_137.pdf...\n",
            "Extracting text from asop042_191.pdf...\n",
            "Extracting text from ASOP-Proposal-Form.pdf...\n",
            "Extracting text from asop001_170.pdf...\n",
            "Extracting text from asop034_180.pdf...\n",
            "Extracting text from asop024_217.pdf...\n",
            "Extracting text from asop005_186.pdf...\n",
            "Extracting text from asop054_193.pdf...\n",
            "Extracting text from asop018_206-.pdf...\n",
            "Extracting text from asop008_176.pdf...\n",
            "Extracting text from ASB-Definitions-as-of-6-4-2024.pdf...\n",
            "Extracting text from asop045_164.pdf...\n",
            "Extracting text from asop037_154.pdf...\n",
            "Extracting text from asop050_182.pdf...\n",
            "Extracting text from asop015_134.pdf...\n",
            "Extracting text from asop035_198.pdf...\n",
            "Extracting text from asop046_165.pdf...\n",
            "Text extraction completed.\n"
          ]
        }
      ]
    },
    {
      "cell_type": "markdown",
      "source": [
        "Load the extracted texts"
      ],
      "metadata": {
        "id": "Qdj4TKyst4ic"
      }
    },
    {
      "cell_type": "code",
      "source": [
        "import os\n",
        "\n",
        "# Directory containing the extracted text files\n",
        "text_dir = 'asop_texts'\n",
        "\n",
        "# List all text files\n",
        "text_files = [f for f in os.listdir(text_dir) if f.endswith('.txt')]\n",
        "\n",
        "# Initialize a list to hold all documents\n",
        "documents = []\n",
        "\n",
        "for file_name in text_files:\n",
        "    file_path = os.path.join(text_dir, file_name)\n",
        "    with open(file_path, 'r', encoding='utf-8') as f:\n",
        "        text = f.read()\n",
        "        documents.append(text)\n"
      ],
      "metadata": {
        "id": "25MRkQKWrLgq"
      },
      "execution_count": null,
      "outputs": []
    },
    {
      "cell_type": "markdown",
      "source": [
        "Clean each document"
      ],
      "metadata": {
        "id": "g7JRtDcCuAmS"
      }
    },
    {
      "cell_type": "code",
      "source": [
        "import re\n",
        "\n",
        "def clean_text(text):\n",
        "    # Remove headers and footers (customize patterns as needed)\n",
        "    text = re.sub(r'ASOP No\\.\\s*\\d+\\s*-.*?\\n', '', text)  # Remove ASOP headers\n",
        "    text = re.sub(r'Actuarial Standards Board.*?\\n', '', text)  # Remove footer\n",
        "    text = re.sub(r'Page\\s*\\d+\\s*of\\s*\\d+', '', text)  # Remove page numbers\n",
        "\n",
        "    # Remove multiple newlines and excessive whitespace\n",
        "    text = re.sub(r'\\n+', '\\n', text)\n",
        "    text = re.sub(r'[ \\t]+', ' ', text)\n",
        "\n",
        "    # Strip leading and trailing whitespace\n",
        "    text = text.strip()\n",
        "\n",
        "    return text\n"
      ],
      "metadata": {
        "id": "nQ8I8nJ9uBzi"
      },
      "execution_count": null,
      "outputs": []
    },
    {
      "cell_type": "code",
      "source": [
        "cleaned_documents = [clean_text(doc) for doc in documents]\n"
      ],
      "metadata": {
        "id": "25Uu6MIRuD-a"
      },
      "execution_count": null,
      "outputs": []
    },
    {
      "cell_type": "code",
      "source": [
        "cleaned_documents[4][0:1000]"
      ],
      "metadata": {
        "colab": {
          "base_uri": "https://localhost:8080/",
          "height": 123
        },
        "id": "OkC86zxgD4XS",
        "outputId": "a1a625fd-7012-4d11-fc71-4785e7d04702"
      },
      "execution_count": null,
      "outputs": [
        {
          "output_type": "execute_result",
          "data": {
            "text/plain": [
              "'Actuarial Standard \\n of Practice \\nNo. 12 \\n \\n \\nRisk Classification (fo r All Practice Areas) \\n \\n \\nRevised Edition \\n \\n \\n \\nDeveloped by the \\nTask Force to Revise ASOP No. 12 of the \\nGeneral Committee of the \\n \\n \\nAdopted by the \\nDecember 2005 \\nUpdated for Deviation Language Effective May 1, 2011 \\n \\n(Doc. No. 132)ASOP No. 12—December 2005 \\n \\n iiT A B L E O F C O N T E N T S \\n \\nTransmittal Memorandum iv \\nSTANDARD OF PRACTICE \\n \\nSection 1. Purpose, Scope, Cross References, and Effective Date 1 \\n1.1 Purpose 1 1.2 Scope 1 \\n1.3 Cross References 1 1.4 Effective Date 2 \\n \\nSection 2. Definitions 2 \\n2.1 Advice 2 2.2 Adverse Selection 2 2.3 Credibility 2 2.4 Financial or Personal Security System 2 2.5 Homogeneity 2 2.6 Practical 2 2.7 Risk(s) 2 2.8 Risk Characteristics 2 2.9 Risk Class 2 2.10 Risk Classification System 3 \\n \\nSection 3. Analysis of Issues and Recommended Practices 3 \\n3.1 Introduction 3 3.2 Considerations in the Selec tion of Risk Characteristics 3 \\n3.2.1 Relationship of Risk Characteri'"
            ],
            "application/vnd.google.colaboratory.intrinsic+json": {
              "type": "string"
            }
          },
          "metadata": {},
          "execution_count": 7
        }
      ]
    },
    {
      "cell_type": "markdown",
      "source": [
        "Set up the environment with OpenAI, LangChain, and LangSmith"
      ],
      "metadata": {
        "id": "YBEKja2PQJm0"
      }
    },
    {
      "cell_type": "code",
      "source": [
        "import os\n",
        "from google.colab import userdata\n",
        "os.environ['OPENAI_API_KEY'] = userdata.get('OPENAI_API_KEY')\n",
        "OPENAI_API_KEY = os.environ['OPENAI_API_KEY']"
      ],
      "metadata": {
        "id": "ob6L4B-dv_3c"
      },
      "execution_count": null,
      "outputs": []
    },
    {
      "cell_type": "code",
      "source": [
        "from langchain_openai import OpenAIEmbeddings\n",
        "embeddings = OpenAIEmbeddings(model=\"text-embedding-3-large\")\n",
        "\n",
        "from langchain_chroma import Chroma\n",
        "persist_directory = 'chroma_db'\n",
        "\n",
        "# Initialize the Chroma vector store with the persist_directory\n",
        "vector_store = Chroma(embedding_function=embeddings, persist_directory=persist_directory)"
      ],
      "metadata": {
        "id": "GMrh2tVYQAye"
      },
      "execution_count": null,
      "outputs": []
    },
    {
      "cell_type": "code",
      "source": [
        "from langchain_openai import ChatOpenAI\n",
        "\n",
        "llm = ChatOpenAI(model=\"gpt-4o-mini\")"
      ],
      "metadata": {
        "id": "6esKlwl5TAj4"
      },
      "execution_count": null,
      "outputs": []
    },
    {
      "cell_type": "code",
      "source": [
        "os.environ[\"LANGCHAIN_TRACING_V2\"] = \"true\"\n",
        "os.environ[\"LANGCHAIN_ENDPOINT\"]=\"https://api.smith.langchain.com\"\n",
        "os.environ['LANGCHAIN_API_KEY'] = userdata.get('LANGSMITH_API')\n",
        "os.environ[\"LANGCHAIN_PROJECT\"] = f\"langchain-test\"\n"
      ],
      "metadata": {
        "id": "MNS8lKQHQxeh"
      },
      "execution_count": null,
      "outputs": []
    },
    {
      "cell_type": "code",
      "source": [
        "from langsmith import Client\n",
        "import getpass\n",
        "\n",
        "api_key = getpass.getpass('Enter your LangSmith API key: ')\n",
        "client = Client(api_key=api_key)\n"
      ],
      "metadata": {
        "colab": {
          "base_uri": "https://localhost:8080/"
        },
        "id": "J6JI_AVjZmGu",
        "outputId": "a1277b9e-59a2-4169-82ce-841e43db0673"
      },
      "execution_count": null,
      "outputs": [
        {
          "name": "stdout",
          "output_type": "stream",
          "text": [
            "Enter your LangSmith API key: ··········\n"
          ]
        }
      ]
    },
    {
      "cell_type": "code",
      "source": [
        "\n",
        "try:\n",
        "    projects = client.list_projects()\n",
        "    print(\"API Key is valid. Available projects:\")\n",
        "    for project in projects:\n",
        "        print(project.name)\n",
        "except Exception as e:\n",
        "    print(f\"Error: {e}\")\n"
      ],
      "metadata": {
        "colab": {
          "base_uri": "https://localhost:8080/"
        },
        "id": "8yUHn0swZMK6",
        "outputId": "89de48a2-fed9-4777-9a93-53ab0bb0b18c"
      },
      "execution_count": null,
      "outputs": [
        {
          "output_type": "stream",
          "name": "stdout",
          "text": [
            "API Key is valid. Available projects:\n",
            "default\n",
            "langchain-test\n"
          ]
        }
      ]
    },
    {
      "cell_type": "markdown",
      "source": [
        "Split the documents into chunks"
      ],
      "metadata": {
        "id": "tCx9xT6bQ8e3"
      }
    },
    {
      "cell_type": "code",
      "source": [
        "from langchain_core.documents import Document\n",
        "from langchain_text_splitters import RecursiveCharacterTextSplitter\n",
        "from typing_extensions import List, TypedDict\n",
        "\n",
        "class LangChainDocument(TypedDict):\n",
        "    page_content: str\n",
        "    metadata: dict\n",
        "\n",
        "langchain_docs = [Document(page_content=doc) for doc in cleaned_documents]\n",
        "\n",
        "text_splitter = RecursiveCharacterTextSplitter(chunk_size=1000, chunk_overlap=200)\n",
        "all_splits = text_splitter.split_documents(langchain_docs)\n"
      ],
      "metadata": {
        "id": "LGoiWSj80IfH"
      },
      "execution_count": null,
      "outputs": []
    },
    {
      "cell_type": "markdown",
      "source": [
        "Store the chunks in a vector store"
      ],
      "metadata": {
        "id": "lnTYaQL7RBss"
      }
    },
    {
      "cell_type": "code",
      "source": [
        "\n",
        "_ = vector_store.add_documents(documents=all_splits)\n",
        "# Persist the vector store to disk"
      ],
      "metadata": {
        "id": "XYd6ck1Pv3-1",
        "colab": {
          "base_uri": "https://localhost:8080/",
          "height": 173
        },
        "outputId": "873ed15d-e662-4b88-d160-45b893a8df5b"
      },
      "execution_count": null,
      "outputs": [
        {
          "output_type": "error",
          "ename": "AttributeError",
          "evalue": "'Chroma' object has no attribute 'persist'",
          "traceback": [
            "\u001b[0;31m---------------------------------------------------------------------------\u001b[0m",
            "\u001b[0;31mAttributeError\u001b[0m                            Traceback (most recent call last)",
            "\u001b[0;32m<ipython-input-16-33adbc9e7105>\u001b[0m in \u001b[0;36m<cell line: 6>\u001b[0;34m()\u001b[0m\n\u001b[1;32m      4\u001b[0m \u001b[0m_\u001b[0m \u001b[0;34m=\u001b[0m \u001b[0mvector_store\u001b[0m\u001b[0;34m.\u001b[0m\u001b[0madd_documents\u001b[0m\u001b[0;34m(\u001b[0m\u001b[0mdocuments\u001b[0m\u001b[0;34m=\u001b[0m\u001b[0mall_splits\u001b[0m\u001b[0;34m)\u001b[0m\u001b[0;34m\u001b[0m\u001b[0;34m\u001b[0m\u001b[0m\n\u001b[1;32m      5\u001b[0m \u001b[0;31m# Persist the vector store to disk\u001b[0m\u001b[0;34m\u001b[0m\u001b[0;34m\u001b[0m\u001b[0m\n\u001b[0;32m----> 6\u001b[0;31m \u001b[0mvector_store\u001b[0m\u001b[0;34m.\u001b[0m\u001b[0mpersist\u001b[0m\u001b[0;34m(\u001b[0m\u001b[0;34m)\u001b[0m\u001b[0;34m\u001b[0m\u001b[0;34m\u001b[0m\u001b[0m\n\u001b[0m",
            "\u001b[0;31mAttributeError\u001b[0m: 'Chroma' object has no attribute 'persist'"
          ]
        }
      ]
    },
    {
      "cell_type": "markdown",
      "source": [
        "Use LangGraph to turn the retriver into a tool"
      ],
      "metadata": {
        "id": "vCi_0ZlORroc"
      }
    },
    {
      "cell_type": "code",
      "source": [
        "from langgraph.graph import MessagesState, StateGraph\n",
        "\n",
        "graph_builder = StateGraph(MessagesState)"
      ],
      "metadata": {
        "id": "DQvx1IWMR75n"
      },
      "execution_count": null,
      "outputs": []
    },
    {
      "cell_type": "code",
      "source": [
        "from langchain_core.tools import tool\n",
        "\n",
        "\n",
        "@tool(response_format=\"content_and_artifact\")\n",
        "def retrieve(query: str):\n",
        "    \"\"\"Retrieve information related to a query.\"\"\"\n",
        "    retrieved_docs = vector_store.similarity_search(query, k=2)\n",
        "    serialized = \"\\n\\n\".join(\n",
        "        (f\"Source: {doc.metadata}\\n\" f\"Content: {doc.page_content}\")\n",
        "        for doc in retrieved_docs\n",
        "    )\n",
        "    return serialized, retrieved_docs"
      ],
      "metadata": {
        "id": "aKMgSUatSnvB"
      },
      "execution_count": null,
      "outputs": []
    },
    {
      "cell_type": "code",
      "source": [
        "from langchain_core.messages import SystemMessage\n",
        "from langgraph.prebuilt import ToolNode\n",
        "\n",
        "\n",
        "def query_or_respond(state: MessagesState):\n",
        "    \"\"\"Generate tool call for retrieval or respond.\"\"\"\n",
        "    llm_with_tools = llm.bind_tools([retrieve])\n",
        "    response = llm_with_tools.invoke(state[\"messages\"])\n",
        "    # MessagesState appends messages to state instead of overwriting\n",
        "    return {\"messages\": [response]}\n",
        "\n",
        "\n",
        "tools = ToolNode([retrieve])\n",
        "\n",
        "\n",
        "def generate(state: MessagesState):\n",
        "    \"\"\"Generate answer.\"\"\"\n",
        "    recent_tool_messages = []\n",
        "    for message in reversed(state[\"messages\"]):\n",
        "        if message.type == \"tool\":\n",
        "            recent_tool_messages.append(message)\n",
        "        else:\n",
        "            break\n",
        "    tool_messages = recent_tool_messages[::-1]\n",
        "\n",
        "    docs_content = \"\\n\\n\".join(doc.content for doc in tool_messages)\n",
        "    system_message_content = (\n",
        "        \"You are an expert in actuarial science with in-depth knowledge of the Actuarial Standards of Practice (ASOPs).\"\n",
        "        \"Use the following pieces of retrieved context to answer \"\n",
        "        \"If you don't know the answer, say that you \"\n",
        "        \"don't know. Please provide a clear and concise answer to the following question.\"\n",
        "        \"\\n\\n\"\n",
        "        f\"{docs_content}\"\n",
        "    )\n",
        "    conversation_messages = [\n",
        "        message\n",
        "        for message in state[\"messages\"]\n",
        "        if message.type in (\"human\", \"system\")\n",
        "        or (message.type == \"ai\" and not message.tool_calls)\n",
        "    ]\n",
        "    prompt = [SystemMessage(system_message_content)] + conversation_messages\n",
        "\n",
        "    # Run\n",
        "    response = llm.invoke(prompt)\n",
        "    return {\"messages\": [response]}"
      ],
      "metadata": {
        "id": "ShOc4Ci6SH_n"
      },
      "execution_count": null,
      "outputs": []
    },
    {
      "cell_type": "code",
      "source": [
        "from langgraph.graph import END\n",
        "from langgraph.prebuilt import ToolNode, tools_condition\n",
        "\n",
        "graph_builder.add_node(query_or_respond)\n",
        "graph_builder.add_node(tools)\n",
        "graph_builder.add_node(generate)\n",
        "\n",
        "graph_builder.set_entry_point(\"query_or_respond\")\n",
        "graph_builder.add_conditional_edges(\n",
        "    \"query_or_respond\",\n",
        "    tools_condition,\n",
        "    {END: END, \"tools\": \"tools\"},\n",
        ")\n",
        "graph_builder.add_edge(\"tools\", \"generate\")\n",
        "graph_builder.add_edge(\"generate\", END)\n",
        "\n",
        "graph = graph_builder.compile()"
      ],
      "metadata": {
        "id": "CKfNTmVeSk3b"
      },
      "execution_count": null,
      "outputs": []
    },
    {
      "cell_type": "code",
      "source": [
        "from IPython.display import Image, display\n",
        "\n",
        "display(Image(graph.get_graph().draw_mermaid_png()))"
      ],
      "metadata": {
        "colab": {
          "base_uri": "https://localhost:8080/",
          "height": 449
        },
        "id": "bIZWx4KHSAva",
        "outputId": "0cf8f604-0c67-471d-c138-10d4e45ea04a"
      },
      "execution_count": null,
      "outputs": [
        {
          "output_type": "display_data",
          "data": {
            "image/png": "[encoded data removed]",
            "text/plain": [
              "<IPython.core.display.Image object>"
            ]
          },
          "metadata": {}
        }
      ]
    },
    {
      "cell_type": "markdown",
      "source": [
        "Create an object to store persistent memory"
      ],
      "metadata": {
        "id": "4h3i7X9wR34O"
      }
    },
    {
      "cell_type": "code",
      "source": [
        "from langgraph.checkpoint.memory import MemorySaver\n",
        "\n",
        "memory = MemorySaver()\n",
        "graph = graph_builder.compile(checkpointer=memory)\n",
        "\n",
        "# Specify an ID for the thread\n",
        "config = {\"configurable\": {\"thread_id\": \"abc123\"}}"
      ],
      "metadata": {
        "id": "sEwBZM_6K97_"
      },
      "execution_count": null,
      "outputs": []
    },
    {
      "cell_type": "markdown",
      "source": [
        "Test!"
      ],
      "metadata": {
        "id": "EXABkLuoR7ao"
      }
    },
    {
      "cell_type": "code",
      "source": [
        "input_message = \"What are the disclosure requirements under ASOP No. 41?\"\n",
        "\n",
        "for step in graph.stream(\n",
        "    {\"messages\": [{\"role\": \"user\", \"content\": input_message}]},\n",
        "    stream_mode=\"values\",\n",
        "    config=config,\n",
        "):\n",
        "    step[\"messages\"][-1].pretty_print()"
      ],
      "metadata": {
        "colab": {
          "base_uri": "https://localhost:8080/"
        },
        "id": "lmPpu1vCSxvx",
        "outputId": "bd6a1072-d5b5-4cf4-8446-3f4a4468b3e4"
      },
      "execution_count": null,
      "outputs": [
        {
          "output_type": "stream",
          "name": "stdout",
          "text": [
            "================================\u001b[1m Human Message \u001b[0m=================================\n",
            "\n",
            "What are the disclosure requirements under ASOP No. 41?\n",
            "==================================\u001b[1m Ai Message \u001b[0m==================================\n",
            "Tool Calls:\n",
            "  retrieve (call_1jLU2jiv1mGLgBLH21sY5cdI)\n",
            " Call ID: call_1jLU2jiv1mGLgBLH21sY5cdI\n",
            "  Args:\n",
            "    query: disclosure requirements under ASOP No. 41\n",
            "=================================\u001b[1m Tool Message \u001b[0m=================================\n",
            "Name: retrieve\n",
            "\n",
            "Source: {}\n",
            "Content: on the professional judgment of the actuary and may vary with the complexity and purpose \n",
            "of the actuarial services. In addition, the actuary should refer to ASOP No. 41 for guidance \n",
            "related to the retention of file material other than that which is to be disclosed under section \n",
            "4. \n",
            " \n",
            "Section 4. Communications and Disclosures \n",
            " \n",
            "4.1 Required Disclosures in an Actuarial Report —When issuing an actuarial report to which \n",
            "this standard applies, the actuary should refer to ASOP Nos . 23 and 41. In addition, the \n",
            "actuary should disclose the following in such actuarial reports , if applicable : \n",
            " \n",
            "a. historical and current financial data used to produce the actuarial balance sheet , \n",
            "cohort pricing analysis, and cash flow projections , in accordance with section s 3.3, \n",
            "3.4, and 3.5; \n",
            " \n",
            "b. summary of historical contractual resident or member data and population \n",
            "statistics for contractual resident s or members as of the valuation date , in \n",
            "accordance with section s 3.3, 3.4, and 3.5;\n",
            "\n",
            "Source: {}\n",
            "Content: on the professional judgment of the actuary and may vary with the complexity and purpose \n",
            "of the actuarial services. In addition, the actuary should refer to ASOP No. 41 for guidance \n",
            "related to the retention of file material other than that which is to be disclosed under section \n",
            "4. \n",
            " \n",
            "Section 4. Communications and Disclosures \n",
            " \n",
            "4.1 Required Disclosures in an Actuarial Report —When issuing an actuarial report to which \n",
            "this standard applies, the actuary should refer to ASOP Nos . 23 and 41. In addition, the \n",
            "actuary should disclose the following in such actuarial reports , if applicable : \n",
            " \n",
            "a. historical and current financial data used to produce the actuarial balance sheet , \n",
            "cohort pricing analysis, and cash flow projections , in accordance with section s 3.3, \n",
            "3.4, and 3.5; \n",
            " \n",
            "b. summary of historical contractual resident or member data and population \n",
            "statistics for contractual resident s or members as of the valuation date , in \n",
            "accordance with section s 3.3, 3.4, and 3.5;\n",
            "==================================\u001b[1m Ai Message \u001b[0m==================================\n",
            "\n",
            "The disclosure requirements under ASOP No. 41 primarily focus on the retention of file material related to actuarial services. While the specific disclosure requirements are not detailed in the provided context, it is indicated that actuaries should refer to ASOP No. 41 for guidance on the retention of file material other than what is disclosed under section 4 of the applicable actuarial reports. For comprehensive details on the disclosure requirements, it would be necessary to consult the full text of ASOP No. 41.\n"
          ]
        }
      ]
    },
    {
      "cell_type": "code",
      "source": [
        "input_message = \"Do you remember which ASOP I just asked about?\"\n",
        "\n",
        "for step in graph.stream(\n",
        "    {\"messages\": [{\"role\": \"user\", \"content\": input_message}]},\n",
        "    stream_mode=\"values\",\n",
        "    config = config,\n",
        "):\n",
        "    step[\"messages\"][-1].pretty_print()"
      ],
      "metadata": {
        "colab": {
          "base_uri": "https://localhost:8080/"
        },
        "id": "HX7uxcR-TKvE",
        "outputId": "5a928cc4-60fa-4872-cc74-c6fad027f224"
      },
      "execution_count": null,
      "outputs": [
        {
          "output_type": "stream",
          "name": "stdout",
          "text": [
            "================================\u001b[1m Human Message \u001b[0m=================================\n",
            "\n",
            "Do you remember which ASOP I just asked about?\n",
            "==================================\u001b[1m Ai Message \u001b[0m==================================\n",
            "\n",
            "Yes, you asked about the disclosure requirements under ASOP No. 41.\n"
          ]
        }
      ]
    }
  ]
}